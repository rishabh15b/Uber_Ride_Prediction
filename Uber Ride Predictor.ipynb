{
 "cells": [
  {
   "cell_type": "markdown",
   "metadata": {},
   "source": [
    "#  Uber Prediction Rider"
   ]
  },
  {
   "cell_type": "code",
   "execution_count": 1,
   "metadata": {},
   "outputs": [],
   "source": [
    "#import essential libraries\n",
    "import pandas as pd\n",
    "import numpy as np"
   ]
  },
  {
   "cell_type": "code",
   "execution_count": 2,
   "metadata": {},
   "outputs": [
    {
     "data": {
      "text/html": [
       "<div>\n",
       "<style scoped>\n",
       "    .dataframe tbody tr th:only-of-type {\n",
       "        vertical-align: middle;\n",
       "    }\n",
       "\n",
       "    .dataframe tbody tr th {\n",
       "        vertical-align: top;\n",
       "    }\n",
       "\n",
       "    .dataframe thead th {\n",
       "        text-align: right;\n",
       "    }\n",
       "</style>\n",
       "<table border=\"1\" class=\"dataframe\">\n",
       "  <thead>\n",
       "    <tr style=\"text-align: right;\">\n",
       "      <th></th>\n",
       "      <th>Priceperweek</th>\n",
       "      <th>Population</th>\n",
       "      <th>Monthlyincome</th>\n",
       "      <th>Averageparkingpermonth</th>\n",
       "      <th>Numberofweeklyriders</th>\n",
       "    </tr>\n",
       "  </thead>\n",
       "  <tbody>\n",
       "    <tr>\n",
       "      <th>0</th>\n",
       "      <td>15</td>\n",
       "      <td>1800000</td>\n",
       "      <td>5800</td>\n",
       "      <td>50</td>\n",
       "      <td>192000</td>\n",
       "    </tr>\n",
       "    <tr>\n",
       "      <th>1</th>\n",
       "      <td>15</td>\n",
       "      <td>1790000</td>\n",
       "      <td>6200</td>\n",
       "      <td>50</td>\n",
       "      <td>190400</td>\n",
       "    </tr>\n",
       "    <tr>\n",
       "      <th>2</th>\n",
       "      <td>15</td>\n",
       "      <td>1780000</td>\n",
       "      <td>6400</td>\n",
       "      <td>60</td>\n",
       "      <td>191200</td>\n",
       "    </tr>\n",
       "    <tr>\n",
       "      <th>3</th>\n",
       "      <td>25</td>\n",
       "      <td>1778000</td>\n",
       "      <td>6500</td>\n",
       "      <td>60</td>\n",
       "      <td>177600</td>\n",
       "    </tr>\n",
       "    <tr>\n",
       "      <th>4</th>\n",
       "      <td>25</td>\n",
       "      <td>1750000</td>\n",
       "      <td>6550</td>\n",
       "      <td>60</td>\n",
       "      <td>176800</td>\n",
       "    </tr>\n",
       "  </tbody>\n",
       "</table>\n",
       "</div>"
      ],
      "text/plain": [
       "   Priceperweek  Population  Monthlyincome  Averageparkingpermonth  \\\n",
       "0            15     1800000           5800                      50   \n",
       "1            15     1790000           6200                      50   \n",
       "2            15     1780000           6400                      60   \n",
       "3            25     1778000           6500                      60   \n",
       "4            25     1750000           6550                      60   \n",
       "\n",
       "   Numberofweeklyriders  \n",
       "0                192000  \n",
       "1                190400  \n",
       "2                191200  \n",
       "3                177600  \n",
       "4                176800  "
      ]
     },
     "execution_count": 2,
     "metadata": {},
     "output_type": "execute_result"
    }
   ],
   "source": [
    "#import dataset\n",
    "data=pd.read_csv(\"taxi.csv\")\n",
    "data.head()"
   ]
  },
  {
   "cell_type": "code",
   "execution_count": 3,
   "metadata": {},
   "outputs": [
    {
     "data": {
      "text/plain": [
       "(27, 5)"
      ]
     },
     "execution_count": 3,
     "metadata": {},
     "output_type": "execute_result"
    }
   ],
   "source": [
    "data.shape"
   ]
  },
  {
   "cell_type": "code",
   "execution_count": 4,
   "metadata": {},
   "outputs": [
    {
     "data": {
      "text/plain": [
       "Priceperweek              0\n",
       "Population                0\n",
       "Monthlyincome             0\n",
       "Averageparkingpermonth    0\n",
       "Numberofweeklyriders      0\n",
       "dtype: int64"
      ]
     },
     "execution_count": 4,
     "metadata": {},
     "output_type": "execute_result"
    }
   ],
   "source": [
    "data.isnull().sum()"
   ]
  },
  {
   "cell_type": "code",
   "execution_count": 5,
   "metadata": {},
   "outputs": [],
   "source": [
    "#split data into dependent and independent data\n",
    "X=data.iloc[:, 0:-1].values\n",
    "y=data.iloc[:,-1].values"
   ]
  },
  {
   "cell_type": "code",
   "execution_count": 6,
   "metadata": {},
   "outputs": [
    {
     "data": {
      "text/plain": [
       "array([[     15, 1800000,    5800,      50],\n",
       "       [     15, 1790000,    6200,      50],\n",
       "       [     15, 1780000,    6400,      60],\n",
       "       [     25, 1778000,    6500,      60],\n",
       "       [     25, 1750000,    6550,      60],\n",
       "       [     25, 1740000,    6580,      70],\n",
       "       [     25, 1725000,    8200,      75],\n",
       "       [     30, 1725000,    8600,      75],\n",
       "       [     30, 1720000,    8800,      75],\n",
       "       [     30, 1705000,    9200,      80],\n",
       "       [     30, 1710000,    9630,      80],\n",
       "       [     40, 1700000,   10570,      80],\n",
       "       [     40, 1695000,   11330,      85],\n",
       "       [     40, 1695000,   11600,     100],\n",
       "       [     40, 1690000,   11800,     105],\n",
       "       [     40, 1630000,   11830,     105],\n",
       "       [     65, 1640000,   12650,     105],\n",
       "       [    102, 1635000,   13000,     110],\n",
       "       [     75, 1630000,   13224,     125],\n",
       "       [     75, 1620000,   13766,     130],\n",
       "       [     75, 1615000,   14010,     150],\n",
       "       [     80, 1605000,   14468,     155],\n",
       "       [     86, 1590000,   15000,     165],\n",
       "       [     98, 1595000,   15200,     175],\n",
       "       [     87, 1590000,   15600,     175],\n",
       "       [     77, 1600000,   16000,     190],\n",
       "       [     63, 1610000,   16200,     200]], dtype=int64)"
      ]
     },
     "execution_count": 6,
     "metadata": {},
     "output_type": "execute_result"
    }
   ],
   "source": [
    "X"
   ]
  },
  {
   "cell_type": "code",
   "execution_count": 7,
   "metadata": {},
   "outputs": [
    {
     "data": {
      "text/plain": [
       "array([192000, 190400, 191200, 177600, 176800, 178400, 180800, 175200,\n",
       "       174400, 173920, 172800, 163200, 161600, 161600, 160800, 159200,\n",
       "       148800, 115696, 147200, 150400, 152000, 136000, 126240, 123888,\n",
       "       126080, 151680, 152800], dtype=int64)"
      ]
     },
     "execution_count": 7,
     "metadata": {},
     "output_type": "execute_result"
    }
   ],
   "source": [
    "y"
   ]
  },
  {
   "cell_type": "code",
   "execution_count": 8,
   "metadata": {},
   "outputs": [],
   "source": [
    "#train-test-slpit \n",
    "from sklearn.model_selection import train_test_split\n",
    "X_train,X_test,y_train,y_test=train_test_split(X,y,test_size=0.3,random_state=0)"
   ]
  },
  {
   "cell_type": "code",
   "execution_count": 9,
   "metadata": {},
   "outputs": [
    {
     "name": "stdout",
     "output_type": "stream",
     "text": [
      "Shape of X_train (18, 4)\n",
      "Shape of X_test (9, 4)\n",
      "Shape of y_train (18,)\n",
      "Shape of y_test (9,)\n"
     ]
    }
   ],
   "source": [
    "print(\"Shape of X_train\",X_train.shape)\n",
    "print(\"Shape of X_test\",X_test.shape)\n",
    "print(\"Shape of y_train\",y_train.shape)\n",
    "print(\"Shape of y_test\",y_test.shape)"
   ]
  },
  {
   "cell_type": "code",
   "execution_count": 10,
   "metadata": {},
   "outputs": [
    {
     "data": {
      "text/plain": [
       "LinearRegression()"
      ]
     },
     "execution_count": 10,
     "metadata": {},
     "output_type": "execute_result"
    }
   ],
   "source": [
    "from sklearn.linear_model import LinearRegression\n",
    "reg=LinearRegression()\n",
    "reg.fit(X_train,y_train)"
   ]
  },
  {
   "cell_type": "code",
   "execution_count": 11,
   "metadata": {},
   "outputs": [
    {
     "name": "stdout",
     "output_type": "stream",
     "text": [
      "Train Score= 0.9428364724316814 %\n",
      "Test Score= 0.9157379222488224 %\n"
     ]
    }
   ],
   "source": [
    "print(\"Train Score=\",reg.score(X_train,y_train),\"%\")\n",
    "print(\"Test Score=\",reg.score(X_test,y_test),\"%\")"
   ]
  },
  {
   "cell_type": "code",
   "execution_count": 12,
   "metadata": {},
   "outputs": [],
   "source": [
    "import pickle"
   ]
  },
  {
   "cell_type": "code",
   "execution_count": 13,
   "metadata": {},
   "outputs": [],
   "source": [
    "pickle.dump(reg,open('taxi.pkl','wb'))"
   ]
  },
  {
   "cell_type": "code",
   "execution_count": 14,
   "metadata": {},
   "outputs": [
    {
     "name": "stdout",
     "output_type": "stream",
     "text": [
      "[153448.45038985]\n"
     ]
    }
   ],
   "source": [
    "# Testing of .pkl\n",
    "model=pickle.load(open('taxi.pkl','rb'))\n",
    "print(model.predict([[80,1770000,6000,85]]))"
   ]
  },
  {
   "cell_type": "code",
   "execution_count": null,
   "metadata": {},
   "outputs": [],
   "source": []
  }
 ],
 "metadata": {
  "kernelspec": {
   "display_name": "Python 3",
   "language": "python",
   "name": "python3"
  },
  "language_info": {
   "codemirror_mode": {
    "name": "ipython",
    "version": 3
   },
   "file_extension": ".py",
   "mimetype": "text/x-python",
   "name": "python",
   "nbconvert_exporter": "python",
   "pygments_lexer": "ipython3",
   "version": "3.7.9"
  }
 },
 "nbformat": 4,
 "nbformat_minor": 4
}
